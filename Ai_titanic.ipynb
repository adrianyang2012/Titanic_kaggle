{
  "nbformat": 4,
  "nbformat_minor": 0,
  "metadata": {
    "colab": {
      "private_outputs": true,
      "provenance": [],
      "authorship_tag": "ABX9TyOrwaubNkjPC/v3IS3SQaeL",
      "include_colab_link": true
    },
    "kernelspec": {
      "name": "python3",
      "display_name": "Python 3"
    },
    "language_info": {
      "name": "python"
    }
  },
  "cells": [
    {
      "cell_type": "markdown",
      "metadata": {
        "id": "view-in-github",
        "colab_type": "text"
      },
      "source": [
        "<a href=\"https://colab.research.google.com/github/adrianyang2012/Titanic_kaggle/blob/main/Ai_titanic.ipynb\" target=\"_parent\"><img src=\"https://colab.research.google.com/assets/colab-badge.svg\" alt=\"Open In Colab\"/></a>"
      ]
    },
    {
      "cell_type": "code",
      "execution_count": null,
      "metadata": {
        "id": "VkesjXms7ibq"
      },
      "outputs": [],
      "source": [
        "import numpy\n",
        "import random\n",
        "w1 = random.uniform(-1,1)\n",
        "w2 = random.uniform(-1,1)\n",
        "w3 = random.uniform(-1,1)\n",
        "b1 = random.uniform(-1,1)\n",
        "b2 = random.uniform(-1,1)\n",
        "b3 = random.uniform(-1,1)"
      ]
    },
    {
      "cell_type": "code",
      "source": [
        "import csv\n",
        "keys = []\n",
        "values = []\n",
        "with open('train.csv', newline='') as csvfile:\n",
        "    reader = csv.reader(csvfile)\n",
        "    i = 0\n",
        "    for row in reader:\n",
        "        i+=1\n",
        "        if i==1 or row[5] == '':\n",
        "          continue\n",
        "        #print(row)\n",
        "        keys.append((float(row[2]),row[4]=='female',float(row[5])))\n",
        "        values.append(row[1])"
      ],
      "metadata": {
        "id": "2Oti26eh-NdY"
      },
      "execution_count": null,
      "outputs": []
    },
    {
      "cell_type": "code",
      "source": [
        "e = 2.718\n",
        "\n",
        "\n",
        "def leaky_relu(x):\n",
        "  return max([x,0.1*x])\n",
        "def sigmoid(x):\n",
        "  return 1/(1+e**(-x))\n",
        "def forward(x,y,z):\n",
        "  return sigmoid(leaky_relu(x*w1+b1)+leaky_relu(x*w2+b2)+leaky_relu(x*w2+b2))\n",
        "\n",
        "lr = 0.01\n",
        "h = 0.001\n",
        "losses = []\n",
        "for idx in range(0,1000):\n",
        "  if idx%100 == 0:\n",
        "    print(idx)\n",
        "  for i in range(0,len(keys)):\n",
        "    average_val = forward(keys[i][0],keys[i][1],keys[i][2])\n",
        "\n",
        "    w1_val = (forward(keys[i][0],keys[i][1],keys[i][2])-average_val)/h\n",
        "    w1-=h\n",
        "\n",
        "    w2+=h\n",
        "    w2_val = (forward(keys[i][0],keys[i][1],keys[i][2])-average_val)/h\n",
        "    w2-=h\n",
        "\n",
        "    b1+=h\n",
        "    b1_val = (forward(keys[i][0],keys[i][1],keys[i][2])-average_val)/h\n",
        "    b1-=h\n",
        "\n",
        "    b2+=h\n",
        "    b2_val = (forward(keys[i][0],keys[i][1],keys[i][2])-average_val)/h\n",
        "    b2-=h\n",
        "    if values[i] == 1:\n",
        "      w1 += w1_val*lr\n",
        "      w2 += w2_val*lr\n",
        "      b1 += b1_val*lr\n",
        "      b2 += b2_val*lr\n",
        "    else:\n",
        "      w1 += -w1_val*lr\n",
        "      w2 += -w2_val*lr\n",
        "      b1 += -b1_val*lr\n",
        "      b2 += -b2_val*lr\n",
        "  loss = 0\n",
        "  for i in range(0,len(keys)):\n",
        "    loss += abs(forward(keys[i][0],keys[i][1],keys[i][2])-float(values[i]))\n",
        "  losses.append(loss)"
      ],
      "metadata": {
        "id": "gJ1khDVcTy-t"
      },
      "execution_count": null,
      "outputs": []
    },
    {
      "cell_type": "code",
      "source": [
        "import matplotlib.pyplot as plt\n",
        "plt.plot(losses)"
      ],
      "metadata": {
        "id": "AQezpHKtWjr5"
      },
      "execution_count": null,
      "outputs": []
    },
    {
      "cell_type": "code",
      "source": [
        "res = []\n",
        "import csv\n",
        "with open('test.csv', newline='') as csvfile:\n",
        "    reader = csv.reader(csvfile)\n",
        "    i = 0\n",
        "    for row in reader:\n",
        "        print(row)\n",
        "        i+=1\n",
        "        if i == 1 or row[5] == '':\n",
        "          res.append((1,1,1))\n",
        "          continue\n",
        "        if row[5] == '' or row[4] =='':\n",
        "          res.append((1,1,1))\n",
        "          continue\n",
        "        #print(row)\n",
        "        #print((row[3]=='female')*10-float(row[4]))\n",
        "        res.append((float(row[1]),row[3]=='female',float(row[4])))"
      ],
      "metadata": {
        "id": "79lRD7JXZm8X"
      },
      "execution_count": null,
      "outputs": []
    },
    {
      "cell_type": "code",
      "source": [
        "import csv\n",
        "with open('res.csv', 'w') as csvfile:\n",
        "    spamwriter = csv.writer(csvfile)\n",
        "    spamwriter.writerow(['PassengerId','Survived'])\n",
        "    for i in range(0,418):\n",
        "      spamwriter.writerow([892+i,round(forward(res[i][0],res[i][1],res[i][2]))])\n"
      ],
      "metadata": {
        "id": "InGP-D5qd2A3"
      },
      "execution_count": null,
      "outputs": []
    },
    {
      "cell_type": "code",
      "source": [
        "print(w1,w2,w3,b1,b2,b3)"
      ],
      "metadata": {
        "id": "u5022OJgfTQQ"
      },
      "execution_count": null,
      "outputs": []
    }
  ]
}